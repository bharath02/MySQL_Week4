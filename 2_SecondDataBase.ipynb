{
 "cells": [
  {
   "cell_type": "code",
   "execution_count": 92,
   "metadata": {},
   "outputs": [
    {
     "name": "stdout",
     "output_type": "stream",
     "text": [
      "Enter a Value Between 0 to 6 For 0: Create DataBase \n",
      "                                             1: Create Table \n",
      "                                             2: Show Table \n",
      "                                             3: Insert New Values \n",
      "                                             4: Read the data of Table \n",
      "                                             5: Updata Value of perticular row \n",
      "                                             6: Delete Value of row \n",
      "            Selected value is : 4\n",
      "(1, 19940202, 'Manthani')\n",
      "(2, 19940520, 'Nalgoda')\n",
      "(3, 19940401, 'Orisa')\n",
      "(4, 20191201, 'Warngal')\n",
      "(5, 855655544, 'Delhi')\n",
      "(6, 5566555, 'Mumbai')\n",
      "(7, 95556, 'Bengaluru')\n",
      "(8, 666666, 'Kashi')\n"
     ]
    }
   ],
   "source": [
    "import mysql.connector\n",
    "database=mysql.connector.connect(host=\"localhost\",user='root',password='password',database='DB1')\n",
    "sample=database.cursor()\n",
    "\n",
    "# Step 1: Created a DataBase \n",
    "def CreateDataBase():\n",
    "    sample.execute(\"Create DataBase Sample\")\n",
    "    \n",
    "# Step 2: Created a Table in data Base \n",
    "def CreateTable():\n",
    "    sample.execute(\"Create Table sampledatabase(id int Not Null,salary int(10) Not Null,address Text)\")\n",
    "    print(\"Created Table : \")\n",
    "    \n",
    "# Step 3: Inserting values in Table\n",
    "def InsertTable():\n",
    "    SqlValues='Insert into sampledatabase(id,salary, address) values(%s,%s, %s)'\n",
    "    value=[(5,855655544,'Delhi'),(6,5566555,'Mumbai'),(7,95556,'Bengaluru'),(8,666666,'Kashi')]\n",
    "    sample.executemany(SqlValues,value)\n",
    "    print(\"Inserted SuccessFully : \")\n",
    "    database.commit()\n",
    "    \n",
    "# Step 4: Read data in Table\n",
    "def ReadTable():\n",
    "    sample.execute('Select * FROM sampledatabase')\n",
    "    value=sample.fetchall()\n",
    "    for data in value:\n",
    "        print(data)\n",
    "        \n",
    "# Step 5: Update Table\n",
    "def UpdateTable():\n",
    "    value=\"Update sampledatabase set age=26,DateOfBorth =19941212,name='shiva' where id=4\"\n",
    "    sample.execute(value)\n",
    "    database.commit()\n",
    "    \n",
    "# Step 6: Deleteing Table Values\n",
    "def DeleteTable():\n",
    "    value='Delete from sampledatabase where DateOfBorth=19940401'\n",
    "    sample.execute(value)\n",
    "    database.commit()\n",
    "    \n",
    "    \n",
    "val=input(\"Enter a Value Between 0 to 6 For 0: Create DataBase \\n \\\n",
    "                                            1: Create Table \\n \\\n",
    "                                            2: Show Table \\n \\\n",
    "                                            3: Insert New Values \\n \\\n",
    "                                            4: Read the data of Table \\n \\\n",
    "                                            5: Updata Value of perticular row \\n \\\n",
    "                                            6: Delete Value of row \\n \\\n",
    "           Selected value is : \")\n",
    "\n",
    "if(val=='0'):\n",
    "    CreateDataBase()\n",
    "    \n",
    "elif(val=='1'):\n",
    "    CreateTable()\n",
    "    \n",
    "elif(val=='2'):\n",
    "    sample.execute(\"Show Tables\")\n",
    "    for data in sample:\n",
    "        print(data)\n",
    "        \n",
    "elif(val=='3'):\n",
    "    InsertTable()\n",
    "    \n",
    "elif(val=='4'):\n",
    "    ReadTable()\n",
    "    \n",
    "elif(val=='5'):\n",
    "    UpdateTable()\n",
    "elif(val=='6'):\n",
    "    DeleteTable()\n",
    "else:\n",
    "    print('Entered Value is out of ranged please enter between 0 to 6 ')\n",
    "    "
   ]
  },
  {
   "cell_type": "code",
   "execution_count": 22,
   "metadata": {},
   "outputs": [
    {
     "name": "stdout",
     "output_type": "stream",
     "text": [
      "('AllDataTypes',)\n",
      "('employee',)\n"
     ]
    }
   ],
   "source": []
  }
 ],
 "metadata": {
  "kernelspec": {
   "display_name": "Python 3",
   "language": "python",
   "name": "python3"
  },
  "language_info": {
   "codemirror_mode": {
    "name": "ipython",
    "version": 3
   },
   "file_extension": ".py",
   "mimetype": "text/x-python",
   "name": "python",
   "nbconvert_exporter": "python",
   "pygments_lexer": "ipython3",
   "version": "3.6.9"
  }
 },
 "nbformat": 4,
 "nbformat_minor": 4
}
